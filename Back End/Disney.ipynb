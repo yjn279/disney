{
  "nbformat": 4,
  "nbformat_minor": 0,
  "metadata": {
    "colab": {
      "name": "Disney.ipynb のコピー",
      "provenance": [],
      "collapsed_sections": [],
      "machine_shape": "hm",
      "include_colab_link": true
    },
    "kernelspec": {
      "name": "python3",
      "display_name": "Python 3"
    },
    "accelerator": "TPU"
  },
  "cells": [
    {
      "cell_type": "markdown",
      "metadata": {
        "id": "view-in-github",
        "colab_type": "text"
      },
      "source": [
        "<a href=\"https://colab.research.google.com/github/Winnie207/Web/blob/master/Disney.ipynb\" target=\"_parent\"><img src=\"https://colab.research.google.com/assets/colab-badge.svg\" alt=\"Open In Colab\"/></a>"
      ]
    },
    {
      "cell_type": "markdown",
      "metadata": {
        "id": "ijCHXUVutZKR",
        "colab_type": "text"
      },
      "source": [
        "\n",
        "Import"
      ]
    },
    {
      "cell_type": "code",
      "metadata": {
        "id": "gBqAhovTBYfW",
        "colab_type": "code",
        "outputId": "c8c5c72c-ef4e-4c08-bd7a-29934c80782d",
        "colab": {
          "base_uri": "https://localhost:8080/",
          "height": 34
        }
      },
      "source": [
        "pip install pyproj"
      ],
      "execution_count": 7,
      "outputs": [
        {
          "output_type": "stream",
          "text": [
            "Requirement already satisfied: pyproj in /usr/local/lib/python3.6/dist-packages (2.5.0)\n"
          ],
          "name": "stdout"
        }
      ]
    },
    {
      "cell_type": "code",
      "metadata": {
        "id": "6OyLi_jWtdsn",
        "colab_type": "code",
        "cellView": "code",
        "colab": {}
      },
      "source": [
        "import random\n",
        "import copy\n",
        "import numpy as np\n",
        "import pandas as pd\n",
        "import matplotlib.pyplot as plt\n",
        "from pyproj import Geod"
      ],
      "execution_count": 0,
      "outputs": []
    },
    {
      "cell_type": "markdown",
      "metadata": {
        "id": "_QGjNnGlOKuj",
        "colab_type": "text"
      },
      "source": [
        "Class"
      ]
    },
    {
      "cell_type": "code",
      "metadata": {
        "id": "0YeucZr3OJgL",
        "colab_type": "code",
        "colab": {}
      },
      "source": [
        "class Route():\n",
        "\n",
        "    def __init__(self, request, time_open, time_close):\n",
        "        self.request    = request\n",
        "        self.time_open  = time_open\n",
        "        self.time_close = time_close\n",
        "\n",
        "    def read_time(self, file):\n",
        "        data       = pd.read_csv(file).values.T\n",
        "        self.index = data[0]\n",
        "        self.time  = data[1::]\n",
        "\n",
        "    def generate(self, individual):\n",
        "        order = np.array([np.random.choice(self.request, len(self.request), replace=False) for i in range(individual)])\n",
        "        self.order = order\n",
        "\n",
        "    def crossover(self, evaluation):\n",
        "\n",
        "        population_c = np.empty((len(self.order), len(self.request)), dtype=int)\n",
        "\n",
        "        for i in range(0, len(self.order), 2):\n",
        "\n",
        "            parents   = np.random.choice(len(self.order), 2, replace=False, p=evaluation)\n",
        "            crossover = np.random.choice(len(self.request), 2, replace=False)\n",
        "\n",
        "            if crossover[0] > crossover[1]:  crossover[0], crossover[1] = crossover[1], crossover[0]\n",
        "\n",
        "            population_c[i]   = self.order[parents[0]].copy()\n",
        "            population_c[i+1] = self.order[parents[1]].copy()\n",
        "        \n",
        "            for j in range(crossover[0], crossover[1]+1):\n",
        "\n",
        "                index0 = np.where(population_c[i]   == self.order[parents[1]][j])\n",
        "                index1 = np.where(population_c[i+1] == self.order[parents[0]][j])\n",
        "\n",
        "                population_c[i][j],   population_c[i][index0[0][0]]   = population_c[i][index0[0][0]],   population_c[i][j]\n",
        "                population_c[i+1][j], population_c[i+1][index1[0][0]] = population_c[i+1][index1[0][0]], population_c[i+1][j]\n",
        "    \n",
        "        self.order =  population_c.copy()"
      ],
      "execution_count": 0,
      "outputs": []
    },
    {
      "cell_type": "code",
      "metadata": {
        "id": "r4Xhyl5Z7CAY",
        "colab_type": "code",
        "colab": {}
      },
      "source": [
        "class FastPass(Route):\n",
        "\n",
        "     def calculate_fastpass(self):\n",
        "\n",
        "        time_loss  = np.full(len(self.order), self.time_open)\n",
        "        ticket     = self.order.copy()\n",
        "\n",
        "        for i in range(len(self.request)):\n",
        "            t            = time_loss.reshape(-1,1)\n",
        "            index        = np.argmax(np.where(self.index<=t,self.index,0), axis=1)\n",
        "            ticket[:, i] = self.time[self.order[:,i], index]\n",
        "            time_loss    = np.where((ticket[:,i]-time_loss>=120)|(ticket[:,i]==0), time_loss+120, ticket[:,i])\n",
        "            time_loss    = np.where(ticket[:,i]==0, time_loss-120, time_loss)  # スマートじゃない！\n",
        "\n",
        "        return ticket"
      ],
      "execution_count": 0,
      "outputs": []
    },
    {
      "cell_type": "code",
      "metadata": {
        "id": "MWUH6lQV7Xdn",
        "colab_type": "code",
        "colab": {}
      },
      "source": [
        "class StandBy(Route):\n",
        "\n",
        "    def read_coordinate(self, file, walking_speed):\n",
        "\n",
        "        coord   = pd.read_csv(file, usecols=[1,2])\n",
        "        coord_x = np.tile(coord['east'], (len(coord),1))\n",
        "        coord_y = np.tile(coord['north'], (len(coord),1))\n",
        "\n",
        "        distance = Geod(ellps='WGS84').inv(coord_x, coord_y, coord_x.T, coord_y.T)\n",
        "        distance = distance[2] / (walking_speed * 1000 / 60)  # 歩行速度（km/h → m/min）\n",
        "    \n",
        "        self.distance = distance\n",
        "    \n",
        "    def calculate_standby(self, ticket, fp_order):\n",
        "\n",
        "        time_loss  = np.full(len(self.order), self.time_open)\n",
        "        time_lost  = time_loss.copy()\n",
        "        time_loss += self.distance[0, self.order[:,0]]\n",
        "\n",
        "        for i in range(len(self.request)-1):\n",
        "\n",
        "            t          = time_loss.reshape(-1,1)\n",
        "            index      = np.argmax(np.where(self.index<=t,self.index,0), axis=1)\n",
        "            a          = np.where(self.order[:,i].reshape(-1,1) == fp_order)  # ticketのインデックスを取得\n",
        "            time_loss += np.where((ticket[a[0],a[1]]<=time_loss)&(time_loss<=ticket[a[0],a[1]]+60), 20, self.time[self.order[:,i],index])\n",
        "\n",
        "            # パレード\n",
        "            parade    = np.where((ticket[a[0],a[1]]<=1235)&(1235<=ticket[a[0],a[1]]+60), 1235+20, 1235+self.time[self.order[:,i],26])\n",
        "            time_loss = np.where((time_lost<=1200)&(1200<time_loss), parade, time_loss)  # time_walkingをどうやって入れるか？\n",
        "            time_lost = time_loss.copy()\n",
        "\n",
        "            time_loss += self.distance[self.order[:,i], self.order[:,i+1]]\n",
        "\n",
        "        a          = np.where(self.order[:,-1].reshape(-1,1) == fp_order)\n",
        "        time_loss += np.where((ticket[a[0],a[1]]<=time_loss)&(time_loss<=ticket[a[0],a[1]]+60), 20, self.time[self.order[:,-1],index])\n",
        "        parade     = np.where((ticket[a[0],a[1]]<=1235)&(1235<=ticket[a[0],a[1]]+60), 1235+20, 1235+self.time[self.order[:,-1],26])\n",
        "        time_loss  = np.where((time_lost<=1200)&(1200<time_loss), parade, time_loss)  # time_walkingをどうやって入れるか？\n",
        "        time_loss += self.distance[self.order[:,-1], 0]\n",
        "\n",
        "        self.time_loss = time_loss.copy()\n",
        "\n",
        "    def score(self):\n",
        "\n",
        "        score      = self.time_close - self.time_loss\n",
        "\n",
        "        if max(score)-min(score) > 0:\n",
        "            evaluation = (score - min(score)) / (max(score) - min(score))\n",
        "            evaluation = evaluation / sum(evaluation)\n",
        "\n",
        "        else: evaluation = [0] * len(self.request)\n",
        "        \n",
        "        return score, evaluation"
      ],
      "execution_count": 0,
      "outputs": []
    },
    {
      "cell_type": "markdown",
      "metadata": {
        "id": "YFubkXnm5lnw",
        "colab_type": "text"
      },
      "source": [
        "Calculate / Output"
      ]
    },
    {
      "cell_type": "code",
      "metadata": {
        "id": "b1f-o8hSYYty",
        "colab_type": "code",
        "colab": {}
      },
      "source": [
        "request = [6,8,14,17,18,21,22,23,24,25,27,28,29]\n",
        "request = request[:10]\n",
        "\n",
        "individual = 100\n",
        "generation = 100\n",
        "time_open  =  8.0 * 60\n",
        "time_close = 22.0 * 60"
      ],
      "execution_count": 0,
      "outputs": []
    },
    {
      "cell_type": "code",
      "metadata": {
        "id": "6iWQFmqWhBFJ",
        "colab_type": "code",
        "outputId": "9bb6ae02-a22c-4288-c15f-78e365d90952",
        "colab": {
          "base_uri": "https://localhost:8080/",
          "height": 373
        }
      },
      "source": [
        "# インスタンスの生成\n",
        "fp = FastPass(request, time_open,time_close)\n",
        "sb = StandBy(request, time_open, time_close)\n",
        "\n",
        "# データの読み込み\n",
        "fp.read_time('FP.csv')\n",
        "sb.read_time('WaitingTime.csv')\n",
        "sb.read_coordinate('Coordinate.csv', 2)\n",
        "\n",
        "# 個体群の生成\n",
        "fp.generate(individual)\n",
        "sb.generate(individual)\n",
        "\n",
        "# ヒートマップの作成\n",
        "heatmap = np.zeros((generation, individual))\n",
        "\n",
        "# 交配\n",
        "for i in range(generation):\n",
        "    \n",
        "    ticket = fp.calculate_fastpass()\n",
        "    sb.calculate_standby(ticket, fp.order)\n",
        "\n",
        "    score, evaluation = sb.score()\n",
        "    heatmap[i] = score\n",
        "    if sum(evaluation) == 0: break\n",
        "    \n",
        "    fp.crossover(evaluation)\n",
        "    sb.crossover(evaluation)\n",
        "\n",
        "# ヒートマップ・ルートの表示\n",
        "plt.imshow(heatmap, cmap='plasma')\n",
        "plt.show()\n",
        "index = score.argmax()\n",
        "best  = np.array([sb.order[index], fp.order[index], ticket[index]])\n",
        "print('\\n', best, '\\n\\nScore:', score.max())"
      ],
      "execution_count": 15,
      "outputs": [
        {
          "output_type": "display_data",
          "data": {
            "image/png": "[encoded data removed]",
            "text/plain": [
              "<Figure size 432x288 with 1 Axes>"
            ]
          },
          "metadata": {
            "tags": []
          }
        },
        {
          "output_type": "stream",
          "text": [
            "\n",
            " [[ 14   6  23  22   8  24  17  18  25  21]\n",
            " [ 18  25   8  14  24  22   6  17  23  21]\n",
            " [  0   0   0 510   0   0 765   0   0   0]] \n",
            "\n",
            "Score: 418.42996686700724\n"
          ],
          "name": "stdout"
        }
      ]
    }
  ]
}