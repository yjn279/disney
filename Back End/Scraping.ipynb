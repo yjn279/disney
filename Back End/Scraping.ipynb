{
  "nbformat": 4,
  "nbformat_minor": 0,
  "metadata": {
    "colab": {
      "name": "Scraping.ipynb",
      "provenance": [],
      "collapsed_sections": [],
      "authorship_tag": "ABX9TyPLAz/fjwo+ipXeNwuiXH2+",
      "include_colab_link": true
    },
    "kernelspec": {
      "name": "python3",
      "display_name": "Python 3"
    }
  },
  "cells": [
    {
      "cell_type": "markdown",
      "metadata": {
        "id": "view-in-github",
        "colab_type": "text"
      },
      "source": [
        "<a href=\"https://colab.research.google.com/github/Winnie207/Web/blob/master/Scraping.ipynb\" target=\"_parent\"><img src=\"https://colab.research.google.com/assets/colab-badge.svg\" alt=\"Open In Colab\"/></a>"
      ]
    },
    {
      "cell_type": "code",
      "metadata": {
        "id": "bDNOXJvUobHi",
        "colab_type": "code",
        "colab": {}
      },
      "source": [
        "import numpy as np\n",
        "import pandas as pd"
      ],
      "execution_count": 0,
      "outputs": []
    },
    {
      "cell_type": "code",
      "metadata": {
        "id": "W3i6Z6aWJtGP",
        "colab_type": "code",
        "colab": {}
      },
      "source": [
        "domain  = 'https://www.disneycolors.net/wait-time/'\n",
        "\n",
        "url_tdl = []\n",
        "url_tds = []\n",
        "\n",
        "year  = np.arange(2019,2020)\n",
        "month = np.array(['january', 'february', 'march', 'april', 'may', 'june', 'july', 'august', 'september', 'october', 'november', 'december'])\n",
        "month = month\n",
        "day   = np.arange(1, 32)\n",
        "date  = []\n",
        "\n",
        "for i in year:\n",
        "    for j in range(len(month)):\n",
        "        for k in day:\n",
        "            if(not (i % 4 != 0 and month[j] == 'february' and k > 28)):\n",
        "                if(not ((j+1 == 4 or j+1 == 6 or j+1 == 9 or j+1 == 11) and k > 30)):\n",
        "                    if(not (j+1 == 2 and k > 29)):\n",
        "                        if(j+1 >= 10 and k >= 10):\n",
        "                            date.append(str(i) + '/' + str(j+1) + month[j] + '/' + str(k) + 'day')\n",
        "                        elif(j+1 >= 10 and k < 10):\n",
        "                            date.append(str(i) + '/' + str(j+1) + month[j] + '/0' + str(k) + 'day')\n",
        "                        elif(j+1 < 10 and k >= 10):\n",
        "                            date.append(str(i) + '/0' + str(j+1) + month[j] + '/' + str(k) + 'day')\n",
        "                        else:\n",
        "                            date.append(str(i) + '/0' + str(j+1) + month[j] + '/0' + str(k) + 'day')\n",
        "\n",
        "for i in date:\n",
        "    url_tdl.append(domain + i + '-tdl.html')\n",
        "    url_tds.append(domain + i + '-tds.html')\n",
        "\n",
        "url_tdl = url_tdl[(31+28+31+30+31+30+31+31):]\n",
        "url_tds = url_tds[(31+28+31+30+31+30+31+31+1):]"
      ],
      "execution_count": 0,
      "outputs": []
    },
    {
      "cell_type": "code",
      "metadata": {
        "id": "FLuy458jof0Y",
        "colab_type": "code",
        "colab": {}
      },
      "source": [
        "table = pd.read_html(url_tdl[0])\n",
        "\n",
        "weather  = table[0].iloc[0,0]  # 天気\n",
        "fastpass = table[2]  # ファストパス\n",
        "standby  = table[3]  # アトラクション\n",
        "greeting = table[4]  # グリーティング"
      ],
      "execution_count": 0,
      "outputs": []
    }
  ]
}